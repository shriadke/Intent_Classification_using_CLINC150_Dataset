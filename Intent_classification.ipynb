{
 "cells": [
  {
   "cell_type": "markdown",
   "metadata": {},
   "source": [
    "# Intent Classification using Machine Learning\n",
    "\n",
    "## Dataset Used: [CLINC150][1]\n",
    "[1]: https://github.com/clinc/oos-eval \"CLINC 150\"\n",
    "\n",
    "## Methods Used: SVC, Naive Bayes, MLP\n",
    "\n",
    "* This notebook contains a step-by-step implementation of Intent classifier systems commonly used in ChatBots. The aim is to classify given query/sentence into a pre-defined unique intent class.\n",
    "\n",
    "* CLINC-150 dataset contains 10 real-world problem domains having 150 distinct intent classes(with 15 classes in each domain), each with 100 train, 20 validation, 30 test samples.\n",
    "\n",
    "* For this implementation, I have selected 2 distinct intents from each of the 10 domains resulting in **20** distinct intent-classes (The selection is explained in further sections).\n",
    "\n",
    "* The raw data is cleaned and tokenized for feature extraction with the help of NLTK's libraries.\n",
    "\n",
    "* Features selection is one of the important aspect that was decided based on the dataset, nature of queries and classifier model to be implemented. For simplicity purpose, the features used here are in the category of \"Bag-of-Words\". Other feature extractors and encodings such as N-Gram, GLoVe, USE can improve the performance based on the classifier model.\n",
    "\n",
    "* The performance is evaluated based on standard classification metrics such as Precision, Recall, F1-Score, and Accuracy. Here along with precision, recall is also important and thus F1 score along with accuracy will be the sufficient metrics for evaluation."
   ]
  },
  {
   "cell_type": "markdown",
   "metadata": {},
   "source": [
    "###  Imports"
   ]
  },
  {
   "cell_type": "code",
   "execution_count": 1,
   "metadata": {},
   "outputs": [],
   "source": [
    "# Data Loading\n",
    "import json\n",
    "import pandas as pd"
   ]
  },
  {
   "cell_type": "code",
   "execution_count": 2,
   "metadata": {},
   "outputs": [],
   "source": [
    "# Data Cleaning and preprocessing\n",
    "import numpy as np\n",
    "import nltk\n",
    "from nltk.tokenize import word_tokenize\n",
    "from nltk.stem import WordNetLemmatizer\n",
    "from nltk.corpus import stopwords\n",
    "import random\n",
    "import re\n",
    "from sklearn.feature_extraction.text import TfidfVectorizer\n",
    "from sklearn.feature_selection import chi2"
   ]
  },
  {
   "cell_type": "code",
   "execution_count": 3,
   "metadata": {},
   "outputs": [],
   "source": [
    "# Models\n",
    "from sklearn.naive_bayes import MultinomialNB\n",
    "from sklearn.neural_network import MLPClassifier\n",
    "from sklearn.svm import SVC\n",
    "from xgboost import XGBClassifier"
   ]
  },
  {
   "cell_type": "code",
   "execution_count": 4,
   "metadata": {},
   "outputs": [],
   "source": [
    "# Evaluation\n",
    "from sklearn.metrics import accuracy_score, classification_report, precision_recall_fscore_support\n",
    "from sklearn import metrics\n",
    "import matplotlib.pyplot as plt\n",
    "import itertools\n",
    "%matplotlib inline"
   ]
  },
  {
   "cell_type": "markdown",
   "metadata": {},
   "source": [
    "### Data Loading\n",
    "\n",
    "* **Assumption**: Data_full.json is stored in the same directory as of this notebook.\n",
    "\n",
    "* JSON structure:\n",
    "\n",
    "    {\n",
    "        \"train\": List of training samples with each sample representing a tuple: (query,class)\n",
    "                [\n",
    "                     [\"query / sentence\",\"intent_class\"],\n",
    "                     [\"query / sentence\",\"intent_class\"],\n",
    "                ],\n",
    "        \"val\":  List of validation samples with each sample representing a tuple: (query,class)\n",
    "                [\n",
    "                     [\"query / sentence\",\"intent_class\"],\n",
    "                     [\"query / sentence\",\"intent_class\"],\n",
    "                ],\n",
    "         \"test\":  List of testing samples with each sample representing a tuple: (query,class)\n",
    "                [\n",
    "                     [\"query / sentence\",\"intent_class\"],\n",
    "                     [\"query / sentence\",\"intent_class\"],\n",
    "                ],\n",
    "          ...further similar 3 sets for out-of-scope queries for advance classification.\n",
    "    }"
   ]
  },
  {
   "cell_type": "code",
   "execution_count": 5,
   "metadata": {},
   "outputs": [],
   "source": [
    "# Read data from JSON file\n",
    "with open('data_full.json') as json_file: \n",
    "    data_dict = json.load(json_file) "
   ]
  },
  {
   "cell_type": "code",
   "execution_count": 6,
   "metadata": {},
   "outputs": [],
   "source": [
    "# Load data into respective dicts\n",
    "train_data = data_dict['train']\n",
    "val_data = data_dict['val']\n",
    "test_data = data_dict['test']"
   ]
  },
  {
   "cell_type": "code",
   "execution_count": 7,
   "metadata": {},
   "outputs": [],
   "source": [
    "# Converting to Dataframe for sorting/filtering\n",
    "train_df = pd.DataFrame(train_data, columns =['query', 'intent'])\n",
    "val_df = pd.DataFrame(val_data, columns =['query', 'intent'])\n",
    "test_df = pd.DataFrame(test_data, columns =['query', 'intent'])"
   ]
  },
  {
   "cell_type": "markdown",
   "metadata": {},
   "source": [
    "### Filter Domains and intents\n",
    "\n",
    "* By observation, Selected 2 intents from each domain as follows:\n",
    "\n",
    "    1. **Banking**          : \"balance\", \"pin_change\"\n",
    "\n",
    "    2. **Credit Cards**     : \"credit_score\", \"rewards_balance\"\n",
    "\n",
    "    3. **Kitchen & Dining** : \"calories\", \"restaurant_reviews\"\n",
    "\n",
    "    4. **Home**             : \"shopping_list\", \"next_song\" \n",
    "\n",
    "    5. **Auto & Commute**   : \"traffic\", \"uber\"\n",
    "\n",
    "    6. **Travel**           : \"translate\", \"vaccines\"\n",
    "\n",
    "    7. **Utility**          : \"alarm\", \"date\"\n",
    "\n",
    "    8. **Work**             : \"taxes\", \"insurance\"\n",
    "\n",
    "    9. **Small Talk**       : \"greeting\", \"fun_fact\"\n",
    "\n",
    "    10. **Meta**            : \"cancel\", \"yes\"\n",
    "\n",
    "\n",
    "* Selected 20 intents:  \"balance\", \"pin_change\",\"credit_score\", \"rewards_balance\",\"calories\", \n",
    "                        \"restaurant_reviews\", \"shopping_list\", \"next_song\", \"traffic\",\"uber\",\n",
    "                        \"translate\", \"vaccines\",\"alarm\", \"date\", \"taxes\", \n",
    "                        \"insurance\", \"greeting\", \"fun_fact\",\"cancel\", \"yes\""
   ]
  },
  {
   "cell_type": "code",
   "execution_count": 8,
   "metadata": {},
   "outputs": [],
   "source": [
    "# Selected 20 output intents\n",
    "intent_small = [\"balance\", \"pin_change\",\"credit_score\", \"rewards_balance\",\"calories\",\n",
    "                \"restaurant_reviews\", \"shopping_list\", \"next_song\", \"traffic\",\"uber\",\n",
    "                \"translate\", \"vaccines\",\"alarm\", \"date\", \"taxes\", \n",
    "                \"insurance\", \"greeting\", \"fun_fact\",\"cancel\", \"yes\"]"
   ]
  },
  {
   "cell_type": "code",
   "execution_count": 9,
   "metadata": {},
   "outputs": [
    {
     "name": "stdout",
     "output_type": "stream",
     "text": [
      "Total Samples-: Train: 2000, Validation: 400, Test: 600\n",
      "Total Samples combined:  3000\n"
     ]
    }
   ],
   "source": [
    "# Filter dataframes with selected 20 intents\n",
    "train_df_small = train_df[train_df['intent'].isin(intent_small)]\n",
    "val_df_small = val_df[val_df['intent'].isin(intent_small)]\n",
    "test_df_small = test_df[test_df['intent'].isin(intent_small)]\n",
    "print(\"Total Samples-: Train: {0}, Validation: {1}, Test: {2}\".format(len(train_df_small),len(val_df_small),len(test_df_small)))\n",
    "\n",
    "# Append all sets together for ease of vectorization in further steps. Although, individual dataframes can be used as well.\n",
    "entire_small_df = train_df_small.append(val_df_small).append(test_df_small)\n",
    "print(\"Total Samples combined: \",len(entire_small_df))"
   ]
  },
  {
   "cell_type": "code",
   "execution_count": 10,
   "metadata": {},
   "outputs": [],
   "source": [
    "# train_sents = list(train_df_small[\"query\"])\n",
    "# val_sents = list(val_df_small[\"query\"])\n",
    "# test_sents = list(test_df_small[\"query\"])"
   ]
  },
  {
   "cell_type": "code",
   "execution_count": 11,
   "metadata": {},
   "outputs": [],
   "source": [
    "# Get sentences into list\n",
    "entire_sents = list(entire_small_df[\"query\"])\n",
    "entire_intents = list(entire_small_df[\"intent\"])"
   ]
  },
  {
   "cell_type": "code",
   "execution_count": 12,
   "metadata": {},
   "outputs": [],
   "source": [
    "# Prepare Labels and for every sample, assign an unique category id to each intent in a new column in dataframe.\n",
    "entire_small_df['category_id'] = entire_small_df['intent'].factorize()[0]\n",
    "category_id_df = entire_small_df[['intent', 'category_id']].drop_duplicates().sort_values('category_id')\n",
    "category_to_id = dict(category_id_df.values)\n",
    "id_to_category = dict(category_id_df[['category_id', 'intent']].values)\n",
    "labels = entire_small_df.category_id"
   ]
  },
  {
   "cell_type": "markdown",
   "metadata": {},
   "source": [
    "### Data Cleaning\n",
    "\n",
    "1. Replace non-alphanumeric characters from text, such as punctuations, hyphens, symbols, etc. \n",
    "2. Tokenize the sentences into chunks of words, i.e. tokens, using NLTK's word_tokenize \n",
    "3. Lemmatize the tokens i.e. convert the tokens to its dictionary form using WordNetLemmatizer from NLTK.\n",
    "4. Returns a wordlist for a list of sentences."
   ]
  },
  {
   "cell_type": "code",
   "execution_count": 13,
   "metadata": {},
   "outputs": [],
   "source": [
    "def cleaning(sents):\n",
    "    words = []\n",
    "    lemmatizer = WordNetLemmatizer()\n",
    "    for sent in sents:\n",
    "        # Remove anything that is not alphanumeric character\n",
    "        cleaned_sent = re.sub(r'[^ a-z A-Z 0-9]', \" \", sent)\n",
    "        # Split sentence into chunks of words i.e. tokens\n",
    "        word = nltk.tokenize.word_tokenize(cleaned_sent)\n",
    "        # Lemmatize the tokens i.e. convert it to its dictionary form\n",
    "        words.append([lemmatizer.lemmatize(w.lower()) for w in word])\n",
    "        \n",
    "    return words"
   ]
  },
  {
   "cell_type": "code",
   "execution_count": 14,
   "metadata": {},
   "outputs": [],
   "source": [
    "# cleaned_train_sents = cleaning(train_sents)\n",
    "# cleaned_val_sents = cleaning(val_sents)\n",
    "# cleaned_test_sents = cleaning(test_sents)"
   ]
  },
  {
   "cell_type": "code",
   "execution_count": 15,
   "metadata": {},
   "outputs": [
    {
     "name": "stdout",
     "output_type": "stream",
     "text": [
      "[['how', 'would', 'i', 'say', 'i', 'don', 't', 'know', 'the', 'answer', 'in', 'spanish'], ['i', 'would', 'like', 'to', 'know', 'the', 'proper', 'way', 'to', 'greet', 'an', 'adult', 'in', 'portuguese'], ['what', 'word', 'would', 'i', 'use', 'to', 'tell', 'someone', 'i', 'am', 'lost', 'if', 'i', 'were', 'japanese'], ['how', 'would', 'i', 'say', 'thank', 'you', 'if', 'i', 'were', 'russian'], ['can', 'you', 'tell', 'me', 'how', 'i', 'would', 'normally', 'say', 'thank', 'you', 'a', 'a', 'french', 'person']]\n"
     ]
    }
   ],
   "source": [
    "cleaned_entire_sents = cleaning(entire_sents)\n",
    "print(cleaned_entire_sents[10:15])"
   ]
  },
  {
   "cell_type": "markdown",
   "metadata": {},
   "source": [
    "### Feature Selection and Vectorization\n",
    "\n",
    "* Based on the pattern in the queries, it can be seen that, the most representative features of a class are the keywords used in the queries itself.\n",
    "\n",
    "* The position and the occurrences of these words in the sentence matters as they contribute to the intent directly.\n",
    "\n",
    "* To capture this essence, a Bag-of-Words can be created and utilized for information retrieval using TF-IDF. As this is a simpler example, TF-IDF with N-grams will be sufficient in identification of intent features.\n",
    "\n",
    "* Here TF-IDF is used with unigrams and bigrams and max_features are experimented with various combinations of N-grams."
   ]
  },
  {
   "cell_type": "code",
   "execution_count": 16,
   "metadata": {},
   "outputs": [],
   "source": [
    "def temp_tokenizer(text):\n",
    "    return text"
   ]
  },
  {
   "cell_type": "code",
   "execution_count": 17,
   "metadata": {},
   "outputs": [],
   "source": [
    "# Feature size is limited to 8000 which is large enough to include all the important N-grams\n",
    "# A dummy tokenizer is passed to include a list of lists inside the vectorizer\n",
    "tfidf = TfidfVectorizer(max_features=8000, lowercase=False, tokenizer=temp_tokenizer, ngram_range=(1,2))\n",
    "X_entire = tfidf.fit_transform(cleaned_entire_sents).toarray()"
   ]
  },
  {
   "cell_type": "code",
   "execution_count": 18,
   "metadata": {
    "scrolled": true
   },
   "outputs": [
    {
     "name": "stdout",
     "output_type": "stream",
     "text": [
      "# 'alarm':\n",
      "  - Most correlated unigrams:\n",
      ". set\n",
      ". alarm\n",
      "  - Most correlated bigrams:\n",
      ". alarm for\n",
      ". an alarm\n",
      "# 'balance':\n",
      "  - Most correlated unigrams:\n",
      ". balance\n",
      ". bank\n",
      "  - Most correlated bigrams:\n",
      ". in my\n",
      ". my bank\n",
      "# 'calories':\n",
      "  - Most correlated unigrams:\n",
      ". many\n",
      ". calorie\n",
      "  - Most correlated bigrams:\n",
      ". calorie are\n",
      ". many calorie\n",
      "# 'cancel':\n",
      "  - Most correlated unigrams:\n",
      ". cancel\n",
      ". stop\n",
      "  - Most correlated bigrams:\n",
      ". stop talking\n",
      ". cancel that\n",
      "# 'credit_score':\n",
      "  - Most correlated unigrams:\n",
      ". score\n",
      ". credit\n",
      "  - Most correlated bigrams:\n",
      ". credit score\n",
      ". my credit\n",
      "# 'date':\n",
      "  - Most correlated unigrams:\n",
      ". day\n",
      ". date\n",
      "  - Most correlated bigrams:\n",
      ". s date\n",
      ". the date\n",
      "# 'fun_fact':\n",
      "  - Most correlated unigrams:\n",
      ". fact\n",
      ". about\n",
      "  - Most correlated bigrams:\n",
      ". fun fact\n",
      ". fact about\n",
      "# 'greeting':\n",
      "  - Most correlated unigrams:\n",
      ". hi\n",
      ". hey\n",
      "  - Most correlated bigrams:\n",
      ". how are\n",
      ". are you\n",
      "# 'insurance':\n",
      "  - Most correlated unigrams:\n",
      ". benefit\n",
      ". insurance\n",
      "  - Most correlated bigrams:\n",
      ". my insurance\n",
      ". my health\n",
      "# 'next_song':\n",
      "  - Most correlated unigrams:\n",
      ". next\n",
      ". song\n",
      "  - Most correlated bigrams:\n",
      ". next song\n",
      ". the next\n",
      "# 'pin_change':\n",
      "  - Most correlated unigrams:\n",
      ". change\n",
      ". pin\n",
      "  - Most correlated bigrams:\n",
      ". my pin\n",
      ". pin number\n",
      "# 'restaurant_reviews':\n",
      "  - Most correlated unigrams:\n",
      ". good\n",
      ". review\n",
      "  - Most correlated bigrams:\n",
      ". are the\n",
      ". the review\n",
      "# 'rewards_balance':\n",
      "  - Most correlated unigrams:\n",
      ". card\n",
      ". reward\n",
      "  - Most correlated bigrams:\n",
      ". my reward\n",
      ". reward balance\n",
      "# 'shopping_list':\n",
      "  - Most correlated unigrams:\n",
      ". list\n",
      ". shopping\n",
      "  - Most correlated bigrams:\n",
      ". my shopping\n",
      ". shopping list\n",
      "# 'taxes':\n",
      "  - Most correlated unigrams:\n",
      ". pay\n",
      ". tax\n",
      "  - Most correlated bigrams:\n",
      ". pay in\n",
      ". state tax\n",
      "# 'traffic':\n",
      "  - Most correlated unigrams:\n",
      ". way\n",
      ". traffic\n",
      "  - Most correlated bigrams:\n",
      ". way to\n",
      ". the traffic\n",
      "# 'translate':\n",
      "  - Most correlated unigrams:\n",
      ". spanish\n",
      ". say\n",
      "  - Most correlated bigrams:\n",
      ". in spanish\n",
      ". i say\n",
      "# 'uber':\n",
      "  - Most correlated unigrams:\n",
      ". an\n",
      ". uber\n",
      "  - Most correlated bigrams:\n",
      ". uber to\n",
      ". an uber\n",
      "# 'vaccines':\n",
      "  - Most correlated unigrams:\n",
      ". before\n",
      ". shot\n",
      "  - Most correlated bigrams:\n",
      ". before i\n",
      ". travel to\n",
      "# 'yes':\n",
      "  - Most correlated unigrams:\n",
      ". true\n",
      ". yes\n",
      "  - Most correlated bigrams:\n",
      ". that is\n",
      ". that s\n"
     ]
    }
   ],
   "source": [
    "# Validating N-Grams to see the features representing the intent classes\n",
    "N = 2 # 3\n",
    "for classs, category_id in sorted(category_to_id.items()):\n",
    "    features_chi2 = chi2(X_entire, labels == category_id)\n",
    "    indices = np.argsort(features_chi2[0])\n",
    "    feature_names = np.array(tfidf.get_feature_names())[indices]\n",
    "    unigrams = [v for v in feature_names if len(v.split(' ')) == 1]\n",
    "    bigrams = [v for v in feature_names if len(v.split(' ')) == 2]\n",
    "    #trigrams = [v for v in feature_names if len(v.split(' ')) == 3]\n",
    "    print(\"# '{}':\".format(classs))\n",
    "    print(\"  - Most correlated unigrams:\\n. {}\".format('\\n. '.join(unigrams[-N:])))\n",
    "    print(\"  - Most correlated bigrams:\\n. {}\".format('\\n. '.join(bigrams[-N:])))\n",
    "    #print(\"  - Most correlated trigrams:\\n. {}\".format('\\n. '.join(trigrams[-N:])))"
   ]
  },
  {
   "cell_type": "markdown",
   "metadata": {},
   "source": [
    "### Data Split\n",
    "\n",
    "There are total 3000 queries: 2000 Training, 400 Validation, 600 Testing.\n",
    "\n",
    "For these classifiers, cross-validation is not done to keep it simpler and thus validation set is not considered. However, for future models, it can be used, thus kept in the vectorized data."
   ]
  },
  {
   "cell_type": "code",
   "execution_count": 19,
   "metadata": {},
   "outputs": [],
   "source": [
    "# First 2000 rows corresponds to training data\n",
    "X_train = X_entire[:2000]\n",
    "y_train = entire_intents[:2000]\n",
    "\n",
    "# Rows 2400 to 3000 corresponds to Testing data\n",
    "X_test = X_entire[2400:]\n",
    "y_test = entire_intents[2400:]"
   ]
  },
  {
   "cell_type": "markdown",
   "metadata": {},
   "source": [
    "# Classifier Model Preparation\n",
    "\n",
    "Here, I have implemented 4 basic classification models using Scikit Learn.\n",
    "\n",
    "1. Support Vector Classifier\n",
    "2. XGBoost Trees Classifier\n",
    "3. Multinomial Naive Bayes Classifier\n",
    "4. Multi Layer Perceptron"
   ]
  },
  {
   "cell_type": "code",
   "execution_count": 20,
   "metadata": {},
   "outputs": [],
   "source": [
    "svclassifier = SVC()\n",
    "XGBclassifier = XGBClassifier()\n",
    "nb_classifier = MultinomialNB()\n",
    "mlp_classifier = MLPClassifier()\n",
    "\n",
    "clf_dict = {\n",
    "            \"SVClassifier\" : svclassifier,\n",
    "            \"XGBClassifier\": XGBclassifier,\n",
    "            \"NaiveBayesClassifier\": nb_classifier,\n",
    "            \"MultilayerPercpClassifier\":mlp_classifier\n",
    "            }"
   ]
  },
  {
   "cell_type": "code",
   "execution_count": 21,
   "metadata": {},
   "outputs": [],
   "source": [
    "def fit_classifier(label, clf, X_train, y_train):\n",
    "    print('======================================================')\n",
    "    print(\"Training Classifier : \", label)\n",
    "    return clf.fit(X_train, y_train)\n",
    "    "
   ]
  },
  {
   "cell_type": "code",
   "execution_count": 22,
   "metadata": {},
   "outputs": [],
   "source": [
    "def evaluate_classifier(label, clf, X_test, y_test):\n",
    "    print('======================================================')\n",
    "    print(\"Testing Classifier: \", label)\n",
    "    \n",
    "    y_pred = clf.predict(X_test)\n",
    "    #classification_report = classification_report(y_test, y_pred)\n",
    "    accuracy = accuracy_score(y_test, y_pred)\n",
    "    precision,recall,fscore,support=precision_recall_fscore_support(y_test,y_pred,average='macro')\n",
    "    print('\\nClassification Metrics:')\n",
    "    print('Precision : {}'.format(precision))\n",
    "    print( 'Recall    : {}'.format(recall))\n",
    "    print('F-score   : {}'.format(fscore))\n",
    "    print('Accuracy  : {}'.format(accuracy))\n",
    "    print('======================================================')\n",
    "    "
   ]
  },
  {
   "cell_type": "code",
   "execution_count": 23,
   "metadata": {},
   "outputs": [],
   "source": [
    "def train_and_evaluate_clf(clf_dict, X_train, y_train, X_test, y_test):\n",
    "    \n",
    "    print(\"Training and Evaluating all the models:\")\n",
    "    \n",
    "    for label, clf in clf_dict.items():\n",
    "        \n",
    "        trained_classifier = fit_classifier(label, clf, X_train, y_train)\n",
    "        print('======================================================')\n",
    "        \n",
    "        evaluate_classifier(label, trained_classifier, X_test, y_test)\n",
    "    \n",
    "    "
   ]
  },
  {
   "cell_type": "code",
   "execution_count": 24,
   "metadata": {
    "scrolled": false
   },
   "outputs": [
    {
     "name": "stdout",
     "output_type": "stream",
     "text": [
      "Training and Evaluating all the models:\n",
      "======================================================\n",
      "Training Classifier :  SVClassifier\n",
      "======================================================\n",
      "======================================================\n",
      "Testing Classifier:  SVClassifier\n",
      "\n",
      "Classification Metrics:\n",
      "Precision : 0.9578781842495608\n",
      "Recall    : 0.9416666666666664\n",
      "F-score   : 0.9451050490857338\n",
      "Accuracy  : 0.9416666666666667\n",
      "======================================================\n",
      "======================================================\n",
      "Training Classifier :  XGBClassifier\n",
      "======================================================\n",
      "======================================================\n",
      "Testing Classifier:  XGBClassifier\n",
      "\n",
      "Classification Metrics:\n",
      "Precision : 0.9500508813591738\n",
      "Recall    : 0.9383333333333332\n",
      "F-score   : 0.9391039917665356\n",
      "Accuracy  : 0.9383333333333334\n",
      "======================================================\n",
      "======================================================\n",
      "Training Classifier :  NaiveBayesClassifier\n",
      "======================================================\n",
      "======================================================\n",
      "Testing Classifier:  NaiveBayesClassifier\n",
      "\n",
      "Classification Metrics:\n",
      "Precision : 0.9560276408135753\n",
      "Recall    : 0.9549999999999998\n",
      "F-score   : 0.9538944144303793\n",
      "Accuracy  : 0.955\n",
      "======================================================\n",
      "======================================================\n",
      "Training Classifier :  MultilayerPercpClassifier\n",
      "======================================================\n",
      "======================================================\n",
      "Testing Classifier:  MultilayerPercpClassifier\n",
      "\n",
      "Classification Metrics:\n",
      "Precision : 0.9680808870352807\n",
      "Recall    : 0.9650000000000001\n",
      "F-score   : 0.9646267511672869\n",
      "Accuracy  : 0.965\n",
      "======================================================\n"
     ]
    }
   ],
   "source": [
    "train_and_evaluate_clf(clf_dict, X_train, y_train, X_test, y_test)"
   ]
  },
  {
   "cell_type": "code",
   "execution_count": 25,
   "metadata": {},
   "outputs": [],
   "source": [
    "def plot_confusion_matrix(cm, classes,\n",
    "                        normalize=False,\n",
    "                        title='Confusion matrix',\n",
    "                        cmap=plt.cm.Blues):\n",
    "    \"\"\"\n",
    "    This function prints and plots the confusion matrix.\n",
    "    Normalization can be applied by setting `normalize=True`.\n",
    "    \"\"\"\n",
    "    plt.imshow(cm, interpolation='nearest', cmap=cmap)\n",
    "    plt.title(title)\n",
    "    plt.colorbar()\n",
    "    tick_marks = np.arange(len(classes))\n",
    "    plt.xticks(tick_marks, classes, rotation=90)\n",
    "    plt.yticks(tick_marks, classes)\n",
    "\n",
    "    if normalize:\n",
    "        cm = cm.astype('float') / cm.sum(axis=1)[:, np.newaxis]\n",
    "        print(\"Normalized confusion matrix\")\n",
    "    else:\n",
    "        print('Confusion matrix, without normalization')\n",
    "\n",
    "    #print(cm)\n",
    "\n",
    "    plt.ylabel('True label')\n",
    "    plt.xlabel('Predicted label')"
   ]
  },
  {
   "cell_type": "code",
   "execution_count": 26,
   "metadata": {
    "scrolled": false
   },
   "outputs": [
    {
     "name": "stdout",
     "output_type": "stream",
     "text": [
      "Normalized confusion matrix\n"
     ]
    },
    {
     "data": {
      "image/png": "[encoded data removed]",
      "text/plain": [
       "<Figure size 432x288 with 2 Axes>"
      ]
     },
     "metadata": {},
     "output_type": "display_data"
    }
   ],
   "source": [
    "y_pred = nb_classifier.predict(X_test)\n",
    "matrix = metrics.confusion_matrix(y_test, y_pred)\n",
    "plot_confusion_matrix(cm=matrix, normalize=True, classes=intent_small, title='Confusion Matrix')"
   ]
  }
 ],
 "metadata": {
  "kernelspec": {
   "display_name": "Python 3",
   "language": "python",
   "name": "python3"
  },
  "language_info": {
   "codemirror_mode": {
    "name": "ipython",
    "version": 3
   },
   "file_extension": ".py",
   "mimetype": "text/x-python",
   "name": "python",
   "nbconvert_exporter": "python",
   "pygments_lexer": "ipython3",
   "version": "3.6.5"
  }
 },
 "nbformat": 4,
 "nbformat_minor": 2
}
